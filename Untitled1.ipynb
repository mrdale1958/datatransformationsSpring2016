{
 "cells": [
  {
   "cell_type": "code",
   "execution_count": null,
   "metadata": {
    "collapsed": false
   },
   "outputs": [],
   "source": [
    "from temboo.Library.NYTimes.TimesNewswire import GetRecentNewsItems\n",
    "from temboo.Library.NYTimes.TimesNewswire import GetNewsItem\n",
    "from temboo.core.session import TembooSession\n",
    "import json\n",
    "import time\n",
    "\n",
    "\n",
    "# Create a session with your Temboo account details\n",
    "session = TembooSession(\"mrdale\", \"dataMining\", \"7f0cf6b4-1c92-4a12-b\")\n",
    "\n",
    "# Instantiate the Choreos\n",
    "getRecentNewsItemsChoreo = GetRecentNewsItems(session)\n",
    "getNewsItemChoreo = GetNewsItem(session)\n",
    "\n",
    "\n",
    "# Get an InputSet object for each Choreo\n",
    "getRecentNewsItemsInputs = getRecentNewsItemsChoreo.new_input_set()\n",
    "getNewsItemInputs = getNewsItemChoreo.new_input_set()\n",
    "\n",
    "\n",
    "# Set the Choreos' inputs\n",
    "getRecentNewsItemsInputs.set_APIKey(\"9b9eff3b4b0e120a5485a3a4216555ab:11:69682327\")\n",
    "getNewsItemInputs.set_APIKey(\"9b9eff3b4b0e120a5485a3a4216555ab:11:69682327\")\n",
    "\n",
    "\n",
    "# Execute the get list Choreo\n",
    "getRecentNewsItemsResults = getRecentNewsItemsChoreo.execute_with_results(getRecentNewsItemsInputs)\n",
    "\n",
    "\n",
    "articles = json.loads(getRecentNewsItemsResults.get_Response())\n",
    "articles_list = []\n",
    "print('retrieving ',len(articles['results']), articles['num_results'])\n",
    "for article in articles['results']:\n",
    "    # Set the Choreo input for URL\n",
    "    getNewsItemInputs.set_URL(article['url'])\n",
    "    # Execute the Choreo\n",
    "    getNewsItemResults = getNewsItemChoreo.execute_with_results(getNewsItemInputs)\n",
    "    articles_list.append(json.loads(getNewsItemResults.get_Response()))\n",
    "    time.sleep(1/8)\n",
    "\n",
    "\n"
   ]
  },
  {
   "cell_type": "code",
   "execution_count": null,
   "metadata": {
    "collapsed": false
   },
   "outputs": [],
   "source": [
    "# build a text using titles and abstracts\n",
    "\n",
    "test_text = ''\n",
    "for article in articles_list:\n",
    "    \n",
    "    test_text += article['results'][0]['title'] + ' ' + article['results'][0]['abstract'] + ' '\n",
    "    #print (article.keys())\n",
    "print (test_text)\n"
   ]
  },
  {
   "cell_type": "code",
   "execution_count": null,
   "metadata": {
    "collapsed": false
   },
   "outputs": [],
   "source": [
    "no_punctuation = test_text.lower().replace('—',' ').replace('.',' ').replace(',',' ').replace('!',' ').replace('|',' ').replace(':',' ')\n",
    "\n",
    "wordlist = no_punctuation.split()\n",
    "\n",
    "wordfreq = [wordlist.count(w) for w in wordlist] # a list comprehension\n",
    "\n",
    "test_dict = dict(zip(wordlist, wordfreq))\n",
    "print(test_dict)"
   ]
  },
  {
   "cell_type": "code",
   "execution_count": null,
   "metadata": {
    "collapsed": false
   },
   "outputs": [],
   "source": [
    "import bs4 as BeautifulSoup\n",
    "\n",
    "for article in articles['results']:\n",
    "     soup = BeautifulSoup(article['url'])\n"
   ]
  },
  {
   "cell_type": "code",
   "execution_count": null,
   "metadata": {
    "collapsed": true
   },
   "outputs": [],
   "source": []
  }
 ],
 "metadata": {
  "kernelspec": {
   "display_name": "Python 3",
   "language": "python",
   "name": "python3"
  },
  "language_info": {
   "codemirror_mode": {
    "name": "ipython",
    "version": 3
   },
   "file_extension": ".py",
   "mimetype": "text/x-python",
   "name": "python",
   "nbconvert_exporter": "python",
   "pygments_lexer": "ipython3",
   "version": "3.5.1"
  }
 },
 "nbformat": 4,
 "nbformat_minor": 0
}
