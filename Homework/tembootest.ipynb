{
 "cells": [
  {
   "cell_type": "code",
   "execution_count": 3,
   "metadata": {
    "collapsed": false
   },
   "outputs": [
    {
     "name": "stdout",
     "output_type": "stream",
     "text": [
      "Latitude: 34.4555099\n",
      "Longitude: -118.5335220\n"
     ]
    }
   ],
   "source": [
    "from temboo.Library.Google.Geocoding import GeocodeByAddress\n",
    "from temboo.core.session import TembooSession\n",
    "\n",
    "# Create a session with your Temboo account details\n",
    "session = TembooSession(\"mrdale\", \"dataMining\", \"7f0cf6b4-1c92-4a12-b\")\n",
    "\n",
    "# Instantiate the Choreo\n",
    "geocodeByAddressChoreo = GeocodeByAddress(session)\n",
    "\n",
    "# Get an InputSet object for the Choreo\n",
    "geocodeByAddressInputs = geocodeByAddressChoreo.new_input_set()\n",
    "\n",
    "# Set the Choreo inputs\n",
    "geocodeByAddressInputs.set_Address(\"27660 Santa Clarita Road Saugus, CA 91350\")\n",
    "\n",
    "# Execute the Choreo\n",
    "geocodeByAddressResults = geocodeByAddressChoreo.execute_with_results(geocodeByAddressInputs)\n",
    "\n",
    "# Print the Choreo outputs\n",
    "print(\"Latitude: \" + geocodeByAddressResults.get_Latitude())\n",
    "print(\"Longitude: \" + geocodeByAddressResults.get_Longitude())\n",
    "#print(\"Response: \" + geocodeByAddressResults.get_Response())"
   ]
  },
  {
   "cell_type": "code",
   "execution_count": 7,
   "metadata": {
    "collapsed": false
   },
   "outputs": [
    {
     "name": "stdout",
     "output_type": "stream",
     "text": [
      "CensusID: 0611325\n",
      "Response: <?xml version=\"1.0\" encoding=\"UTF-8\" standalone=\"yes\"?><Response status=\"OK\" responseTime=\"14\"><Results><congressionalDistrict><envelope><maxx>-117.65523499999999</maxx><maxy>34.82330099911514</maxy><minx>-118.89447400000002</minx><miny>34.20840399912237</miny></envelope><geographyType>CONGRESSIONAL_DISTRICT_2010</geographyType><statefips>06</statefips><name>Congressional District 25</name><districtId>25</districtId><fips>0611325</fips></congressionalDistrict></Results></Response>\n"
     ]
    }
   ],
   "source": [
    "from temboo.Library.DataGov import GetCensusIDByCoordinates\n",
    "from temboo.core.session import TembooSession\n",
    "\n",
    "# Create a session with your Temboo account details\n",
    "session = TembooSession(\"mrdale\", \"dataMining\", \"7f0cf6b4-1c92-4a12-b\")\n",
    "\n",
    "# Instantiate the Choreo\n",
    "getCensusIDByCoordinatesChoreo = GetCensusIDByCoordinates(session)\n",
    "\n",
    "# Get an InputSet object for the Choreo\n",
    "getCensusIDByCoordinatesInputs = getCensusIDByCoordinatesChoreo.new_input_set()\n",
    "\n",
    "# Set the Choreo inputs\n",
    "getCensusIDByCoordinatesInputs.set_GeographyType(\"congdistrict\")\n",
    "getCensusIDByCoordinatesInputs.set_Latitude(geocodeByAddressResults.get_Latitude())\n",
    "getCensusIDByCoordinatesInputs.set_Longitude(geocodeByAddressResults.get_Longitude())\n",
    "\n",
    "# Execute the Choreo\n",
    "getCensusIDByCoordinatesResults = getCensusIDByCoordinatesChoreo.execute_with_results(getCensusIDByCoordinatesInputs)\n",
    "\n",
    "# Print the Choreo outputs\n",
    "print(\"CensusID: \" + getCensusIDByCoordinatesResults.get_CensusID())\n",
    "print(\"Response: \" + getCensusIDByCoordinatesResults.get_Response())"
   ]
  },
  {
   "cell_type": "code",
   "execution_count": null,
   "metadata": {
    "collapsed": true
   },
   "outputs": [],
   "source": []
  }
 ],
 "metadata": {
  "kernelspec": {
   "display_name": "Python 3",
   "language": "python",
   "name": "python3"
  },
  "language_info": {
   "codemirror_mode": {
    "name": "ipython",
    "version": 3
   },
   "file_extension": ".py",
   "mimetype": "text/x-python",
   "name": "python",
   "nbconvert_exporter": "python",
   "pygments_lexer": "ipython3",
   "version": "3.5.1"
  }
 },
 "nbformat": 4,
 "nbformat_minor": 0
}
